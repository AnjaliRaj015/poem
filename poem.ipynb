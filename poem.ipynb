{
 "cells": [
  {
   "cell_type": "code",
   "execution_count": 11,
   "id": "0a4aadfe",
   "metadata": {},
   "outputs": [
    {
     "name": "stdout",
     "output_type": "stream",
     "text": [
      "[nltk_data] Error loading stopwords: <urlopen error [WinError 10060] A\n",
      "[nltk_data]     connection attempt failed because the connected party\n",
      "[nltk_data]     did not properly respond after a period of time, or\n",
      "[nltk_data]     established connection failed because connected host\n",
      "[nltk_data]     has failed to respond>\n",
      "[nltk_data] Error loading punkt: <urlopen error [WinError 10060] A\n",
      "[nltk_data]     connection attempt failed because the connected party\n",
      "[nltk_data]     did not properly respond after a period of time, or\n",
      "[nltk_data]     established connection failed because connected host\n",
      "[nltk_data]     has failed to respond>\n"
     ]
    },
    {
     "data": {
      "text/plain": [
       "False"
      ]
     },
     "execution_count": 11,
     "metadata": {},
     "output_type": "execute_result"
    }
   ],
   "source": [
    "# import necessary libraries\n",
    "import pandas as pd\n",
    "import numpy as np\n",
    "from sklearn.model_selection import train_test_split\n",
    "from sklearn.feature_extraction.text import CountVectorizer\n",
    "from sklearn.naive_bayes import MultinomialNB\n",
    "import nltk\n",
    "from nltk.stem import PorterStemmer\n",
    "from nltk.corpus import stopwords\n",
    "from nltk.tokenize import word_tokenize\n",
    "nltk.download('stopwords')\n",
    "nltk.download('punkt')"
   ]
  },
  {
   "cell_type": "code",
   "execution_count": 8,
   "id": "198ccbad",
   "metadata": {},
   "outputs": [
    {
     "ename": "NameError",
     "evalue": "name 'preprocess_text' is not defined",
     "output_type": "error",
     "traceback": [
      "\u001b[1;31m---------------------------------------------------------------------------\u001b[0m",
      "\u001b[1;31mNameError\u001b[0m                                 Traceback (most recent call last)",
      "\u001b[1;32m<ipython-input-8-10fe25783055>\u001b[0m in \u001b[0;36m<module>\u001b[1;34m\u001b[0m\n\u001b[0;32m     12\u001b[0m     \u001b[1;32mreturn\u001b[0m \u001b[1;34m' '\u001b[0m\u001b[1;33m.\u001b[0m\u001b[0mjoin\u001b[0m\u001b[1;33m(\u001b[0m\u001b[0mtokens\u001b[0m\u001b[1;33m)\u001b[0m\u001b[1;33m\u001b[0m\u001b[1;33m\u001b[0m\u001b[0m\n\u001b[0;32m     13\u001b[0m \u001b[1;33m\u001b[0m\u001b[0m\n\u001b[1;32m---> 14\u001b[1;33m \u001b[0mdf\u001b[0m\u001b[1;33m[\u001b[0m\u001b[1;34m'processed_text'\u001b[0m\u001b[1;33m]\u001b[0m \u001b[1;33m=\u001b[0m \u001b[0mdf\u001b[0m\u001b[1;33m[\u001b[0m\u001b[1;34m'Poem'\u001b[0m\u001b[1;33m]\u001b[0m\u001b[1;33m.\u001b[0m\u001b[0mapply\u001b[0m\u001b[1;33m(\u001b[0m\u001b[0mpreprocess_text\u001b[0m\u001b[1;33m)\u001b[0m\u001b[1;33m\u001b[0m\u001b[1;33m\u001b[0m\u001b[0m\n\u001b[0m\u001b[0;32m     15\u001b[0m \u001b[1;33m\u001b[0m\u001b[0m\n\u001b[0;32m     16\u001b[0m \u001b[1;31m# split the poem into stanzas\u001b[0m\u001b[1;33m\u001b[0m\u001b[1;33m\u001b[0m\u001b[1;33m\u001b[0m\u001b[0m\n",
      "\u001b[1;31mNameError\u001b[0m: name 'preprocess_text' is not defined"
     ]
    }
   ],
   "source": [
    "# load dataset into a pandas DataFrame\n",
    "df = pd.read_csv('final_trial.csv')\n",
    "df=df.dropna()\n",
    "# preprocess the text\n",
    "stop_words = set(stopwords.words('english'))\n",
    "stemmer = PorterStemmer()\n",
    "\n",
    "def preprocess(text):\n",
    "    tokens = word_tokenize(text.lower())\n",
    "    tokens = [token for token in tokens if token not in stop_words]\n",
    "    tokens = [stemmer.stem(token) for token in tokens]\n",
    "    return ' '.join(tokens)\n",
    "\n",
    "df['processed_text'] = df['Poem'].apply(preprocess_text)\n",
    "\n",
    "# split the poem into stanzas\n",
    "df['stanzas'] = df['Poem'].str.split('\\n\\n')\n",
    "\n",
    "# label each stanza with an emotion using a sentiment analysis tool (e.g., TextBlob)\n",
    "print(df['stanzas'][0])"
   ]
  },
  {
   "cell_type": "code",
   "execution_count": null,
   "id": "0258b86b",
   "metadata": {},
   "outputs": [],
   "source": [
    "# create a feature vector for each stanza using a bag-of-words approach\n",
    "vectorizer = CountVectorizer()\n",
    "X = vectorizer.fit_transform(df['processed_text'])\n",
    "y = df['Emotion']"
   ]
  },
  {
   "cell_type": "code",
   "execution_count": null,
   "id": "4d21fb15",
   "metadata": {},
   "outputs": [],
   "source": [
    "# split the data into training and validation sets\n",
    "X_train, X_test, y_train, y_test = train_test_split(X, y, test_size=0.2, random_state=42)\n",
    "\n",
    "# train a machine learning model\n",
    "model = MultinomialNB()\n",
    "model.fit(X_train, y_train)\n",
    "\n",
    "# test the model on the validation set\n",
    "accuracy = model.score(X_test, y_test)\n",
    "print('Validation accuracy:', accuracy)"
   ]
  },
  {
   "cell_type": "code",
   "execution_count": null,
   "id": "cab64c2c",
   "metadata": {},
   "outputs": [],
   "source": [
    "# predict the emotions of stanzas in new poems\n",
    "new_poem = \"\"\"\n",
    "  My mother bore me in the southern wild,\n",
    "And I am black, but O! my soul is white;\n",
    "White as an angel is the English child: \n",
    "But I am black as if bereav'd of light.\n",
    "\n",
    "My mother taught me underneath a tree \n",
    "And sitting down before the heat of day,\n",
    "She took me on her lap and kissed me,\n",
    "And pointing to the east began to say. \n",
    "\n",
    "Look on the rising sun: there God does live \n",
    "And gives his light, and gives his heat away. \n",
    "And flowers and trees and beasts and men receive\n",
    "Comfort in morning joy in the noonday.\n",
    "\n",
    "And we are put on earth a little space,\n",
    "That we may learn to bear the beams of love, \n",
    "And these black bodies and this sun-burnt face\n",
    "Is but a cloud, and like a shady grove.\n",
    "\n",
    "For when our souls have learn'd the heat to bear \n",
    "The cloud will vanish we shall hear his voice. \n",
    "Saying: come out from the grove my love & care,\n",
    "And round my golden tent like lambs rejoice.\n",
    "\n",
    "Thus did my mother say and kissed me, \n",
    "And thus I say to little English boy. \n",
    "When I from black and he from white cloud free,\n",
    "And round the tent of God like lambs we joy: \n",
    "\n",
    "Ill shade him from the heat till he can bear, \n",
    "To lean in joy upon our fathers knee. \n",
    "And then I'll stand and stroke his silver hair,\n",
    "And be like him and he will then love me.\n",
    "\"\"\"\n",
    "\n",
    "new_poem_stanzas = new_poem.split('\\n\\n')\n",
    "new_poem_processed = [preprocess_text(stanza) for stanza in new_poem_stanzas]\n",
    "new_poem_X = vectorizer.transform(new_poem_processed)\n",
    "new_poem_emotions = model.predict(new_poem_X)\n",
    "\n",
    "\n",
    "for stanza, emotion in zip(new_poem_stanzas, new_poem_emotions):\n",
    "    print('Stanza:', stanza.strip())\n",
    "    print('Emotion:', emotion)\n",
    "    print(\"\\n\")\n"
   ]
  },
  {
   "cell_type": "code",
   "execution_count": 1,
   "id": "6dd4f622",
   "metadata": {},
   "outputs": [
    {
     "name": "stdout",
     "output_type": "stream",
     "text": [
      "                                                  text             emotions\n",
      "0    Blanched pregnant sky delivers morning thunder...          [pess, sad]\n",
      "1    hi hesistant hi how are you good you good that...  [anticipation, sad]\n",
      "2    Updated to be a more complete poem This is a p...     [optimism, pess]\n",
      "3    stilettos clicking across your vertebrae balle...          [joy, love]\n",
      "4    Curves more smooth as cursive but Moves more p...           [optimism]\n",
      "..                                                 ...                  ...\n",
      "443  This is my first post on here I honestly just ...              [anger]\n",
      "444  Pretty Little Lines Enamored with her fine sil...          [fear, sad]\n",
      "445  I found hell in a gas station in the humdrum s...          [pess, sad]\n",
      "446  I heard pretty late in September that our part...          [love, sad]\n",
      "447  Teaser on the Wire Moonshot Eddie Frog Spigot ...     [love, optimism]\n",
      "\n",
      "[448 rows x 2 columns]\n"
     ]
    }
   ],
   "source": [
    "import pandas as pd\n",
    "\n",
    "# Load the CSV file into a pandas DataFrame\n",
    "df = pd.read_csv('poems_train.csv')\n",
    "\n",
    "# Define a function to extract the emotions that have a value of 1 for a given row (i.e., stanza)\n",
    "def extract_emotions(row):\n",
    "    emotions = []\n",
    "    for col in df.columns:\n",
    "        if col in ['text']:\n",
    "            continue\n",
    "        if row[col] == 1:\n",
    "            emotions.append(col)\n",
    "    return emotions\n",
    "\n",
    "# Apply the function to each row (i.e., stanza) in the DataFrame\n",
    "df['emotions'] = df.apply(lambda row: extract_emotions(row), axis=1)\n",
    "\n",
    "# Print the results\n",
    "print(df[['text', 'emotions']])\n"
   ]
  },
  {
   "cell_type": "code",
   "execution_count": 5,
   "id": "14a90fea",
   "metadata": {},
   "outputs": [],
   "source": [
    "import pandas as pd\n",
    "\n",
    "# Read in the CSV file with the poem and emotion columns\n",
    "df = pd.read_csv(\"poems_train.csv\")\n",
    "\n",
    "# Get a list of all the emotion column names (assuming they are all lowercase)\n",
    "emotion_columns = [col for col in df.columns if col not in [\"text\"]]\n",
    "\n",
    "# Create a new DataFrame to hold the results\n",
    "results_df = pd.DataFrame(columns=[\"Poem\", \"Emotions\"])\n",
    "\n",
    "# Loop through each row of the original DataFrame\n",
    "for index, row in df.iterrows():\n",
    "    # Get the poem and a list of emotions that were present (i.e., have a value of 1)\n",
    "    poem = row[\"text\"]\n",
    "    emotions = [col for col in emotion_columns if row[col] == 1]\n",
    "    \n",
    "    # Add the poem and emotions to the results DataFrame\n",
    "    results_df = results_df.append({\"Poem\": poem, \"Emotions\": emotions}, ignore_index=True)\n",
    "\n",
    "# Write the results DataFrame to a new CSV file\n",
    "results_df.to_csv(\"new_file.csv\", index=False)\n"
   ]
  },
  {
   "cell_type": "code",
   "execution_count": null,
   "id": "7dbc74bf",
   "metadata": {},
   "outputs": [],
   "source": []
  }
 ],
 "metadata": {
  "kernelspec": {
   "display_name": "Python 3",
   "language": "python",
   "name": "python3"
  },
  "language_info": {
   "codemirror_mode": {
    "name": "ipython",
    "version": 3
   },
   "file_extension": ".py",
   "mimetype": "text/x-python",
   "name": "python",
   "nbconvert_exporter": "python",
   "pygments_lexer": "ipython3",
   "version": "3.8.8"
  }
 },
 "nbformat": 4,
 "nbformat_minor": 5
}
